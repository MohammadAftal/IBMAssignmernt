{
 "cells": [
  {
   "cell_type": "markdown",
   "id": "0cb7181a-2060-4b38-9a46-364a74e3b142",
   "metadata": {},
   "source": [
    "<H1>My Jupyter Notebook on IBM Watson Studio</H1>"
   ]
  },
  {
   "cell_type": "markdown",
   "id": "22a4cb8b-80ae-4f11-9ba2-2172ebea86c4",
   "metadata": {},
   "source": [
    "**Mohamad**\n",
    "<br>\n",
    "Data Scientist"
   ]
  },
  {
   "cell_type": "markdown",
   "id": "baa949e2-118f-429a-a22b-87973746f6fe",
   "metadata": {},
   "source": [
    "*I am interested in data science because I have always been attracted to analysis of all types and I want to use that to find non-trevial relations in data and human behavior*"
   ]
  },
  {
   "cell_type": "markdown",
   "id": "e38f29bf-a74b-441c-b90d-5f513a724189",
   "metadata": {},
   "source": [
    "### The code below will greet you"
   ]
  },
  {
   "cell_type": "code",
   "execution_count": 2,
   "id": "1c3790bc-a8d8-4a26-a32f-abd0d0ccc706",
   "metadata": {},
   "outputs": [
    {
     "name": "stdout",
     "output_type": "stream",
     "text": [
      "hello beautiful soul\n"
     ]
    }
   ],
   "source": [
    "print (\"hello beautiful soul\")"
   ]
  },
  {
   "cell_type": "markdown",
   "id": "8e979c29-abd8-425f-abbe-42792ea61131",
   "metadata": {},
   "source": [
    "- Point 1\n",
    "- Point 2\n",
    "- Point 3\n",
    "<br>\n",
    "1. Point 1\n",
    "2. Point 2\n",
    "3. Point 3\n",
    "\n",
    "~~I Changed my mind~~\n",
    "|Hello|is|it|me|\n",
    "|---|---|---|---|\n",
    "|you|are|looking|f"
   ]
  },
  {
   "cell_type": "code",
   "execution_count": null,
   "id": "b1b4e272-0133-4e0a-8da2-07288a3251aa",
   "metadata": {},
   "outputs": [],
   "source": []
  },
  {
   "cell_type": "code",
   "execution_count": null,
   "id": "cafac0df-10a8-4a73-932e-0fffa87abe34",
   "metadata": {},
   "outputs": [],
   "source": []
  }
 ],
 "metadata": {
  "kernelspec": {
   "display_name": "Python",
   "language": "python",
   "name": "conda-env-python-py"
  },
  "language_info": {
   "codemirror_mode": {
    "name": "ipython",
    "version": 3
   },
   "file_extension": ".py",
   "mimetype": "text/x-python",
   "name": "python",
   "nbconvert_exporter": "python",
   "pygments_lexer": "ipython3",
   "version": "3.7.12"
  }
 },
 "nbformat": 4,
 "nbformat_minor": 5
}
